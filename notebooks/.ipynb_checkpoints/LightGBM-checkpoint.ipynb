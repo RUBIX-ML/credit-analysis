{
 "cells": [
  {
   "cell_type": "markdown",
   "metadata": {},
   "source": [
    "# LightGBM\n",
    "* LightGBM uses the leaf-wise tree growth algorithm, while many other popular tools use depth-wise tree growth. \n",
    "* Compared with depth-wise growth, the leaf-wise algorithm can convenge much faster. However, the leaf-wise growth may be over-fitting if not used with the appropriate parameters."
   ]
  },
  {
   "cell_type": "code",
   "execution_count": 1,
   "metadata": {},
   "outputs": [
    {
     "name": "stderr",
     "output_type": "stream",
     "text": [
      "/Library/Frameworks/Python.framework/Versions/3.6/lib/python3.6/site-packages/sklearn/ensemble/weight_boosting.py:29: DeprecationWarning:\n",
      "\n",
      "numpy.core.umath_tests is an internal NumPy module and should not be imported. It will be removed in a future NumPy release.\n",
      "\n",
      "/Library/Frameworks/Python.framework/Versions/3.6/lib/python3.6/site-packages/lightgbm/__init__.py:46: UserWarning:\n",
      "\n",
      "Starting from version 2.2.1, the library file in distribution wheels for macOS is built by the Apple Clang (Xcode_8.3.3) compiler.\n",
      "This means that in case of installing LightGBM from PyPI via the ``pip install lightgbm`` command, you don't need to install the gcc compiler anymore.\n",
      "Instead of that, you need to install the OpenMP library, which is required for running LightGBM on the system with the Apple Clang compiler.\n",
      "You can install the OpenMP library by the following command: ``brew install libomp``.\n",
      "\n"
     ]
    }
   ],
   "source": [
    "import sys, os\n",
    "sys.path.insert(1, os.path.join(sys.path[0], '..'))\n",
    "import pandas as pd\n",
    "import numpy as np\n",
    "from datetime import datetime\n",
    "import pandas_profiling\n",
    "from plots import *\n",
    "from eda import *\n",
    "import pandas as pd\n",
    "import numpy as np\n",
    "from scipy import stats\n",
    "from sklearn import metrics\n",
    "from sklearn.metrics import mean_squared_error\n",
    "from sklearn.ensemble import RandomForestRegressor, RandomForestClassifier\n",
    "import re\n",
    "import plotly.graph_objects as go\n",
    "from plotly.graph_objs import *\n",
    "from plotly.offline import plot\n",
    "import matplotlib.pyplot as plt\n",
    "import random\n",
    "from sklearn.model_selection import train_test_split \n",
    "import re\n",
    "import lightgbm as lgb\n",
    "%reload_ext autoreload\n",
    "%autoreload 2"
   ]
  },
  {
   "cell_type": "code",
   "execution_count": 2,
   "metadata": {},
   "outputs": [],
   "source": [
    "df_raw = pd.read_csv('../credits.csv', index_col='ID', low_memory=False, parse_dates=True)\n",
    "categorical_cols = ['PAY_0', 'PAY_2', 'PAY_3', 'PAY_4', 'PAY_5', 'PAY_6', 'MARRIAGE', 'EDUCATION', 'SEX']\n",
    "\n",
    "for col in categorical_cols:\n",
    "    df_raw[col] = df_raw[col].astype('category')"
   ]
  },
  {
   "cell_type": "code",
   "execution_count": 4,
   "metadata": {},
   "outputs": [],
   "source": [
    "data = df_raw.drop(columns=['default payment next month'])\n",
    "X_train, X_test, Y_train, Y_test = train_test_split(data, df_raw['default payment next month'], test_size=0.3)"
   ]
  },
  {
   "cell_type": "code",
   "execution_count": 5,
   "metadata": {},
   "outputs": [],
   "source": [
    "param = {'num_leaves': 30, 'objective': 'cross_entropy'}\n",
    "param['metric'] = ['binary_error', 'auc', 'RMSE']"
   ]
  },
  {
   "cell_type": "code",
   "execution_count": 6,
   "metadata": {},
   "outputs": [
    {
     "name": "stdout",
     "output_type": "stream",
     "text": [
      "[1]\tvalid_0's auc: 0.760584\tvalid_0's rmse: 0.407564\tvalid_0's binary_error: 0.223111\n",
      "[2]\tvalid_0's auc: 0.770144\tvalid_0's rmse: 0.400639\tvalid_0's binary_error: 0.223111\n",
      "[3]\tvalid_0's auc: 0.772425\tvalid_0's rmse: 0.394876\tvalid_0's binary_error: 0.223111\n",
      "[4]\tvalid_0's auc: 0.774204\tvalid_0's rmse: 0.390249\tvalid_0's binary_error: 0.223111\n",
      "[5]\tvalid_0's auc: 0.776081\tvalid_0's rmse: 0.386468\tvalid_0's binary_error: 0.223111\n",
      "[6]\tvalid_0's auc: 0.776264\tvalid_0's rmse: 0.38354\tvalid_0's binary_error: 0.223111\n",
      "[7]\tvalid_0's auc: 0.77676\tvalid_0's rmse: 0.380904\tvalid_0's binary_error: 0.223111\n",
      "[8]\tvalid_0's auc: 0.777679\tvalid_0's rmse: 0.378765\tvalid_0's binary_error: 0.219\n",
      "[9]\tvalid_0's auc: 0.778791\tvalid_0's rmse: 0.376931\tvalid_0's binary_error: 0.186556\n",
      "[10]\tvalid_0's auc: 0.779025\tvalid_0's rmse: 0.375497\tvalid_0's binary_error: 0.181556\n"
     ]
    },
    {
     "name": "stderr",
     "output_type": "stream",
     "text": [
      "/Library/Frameworks/Python.framework/Versions/3.6/lib/python3.6/site-packages/lightgbm/basic.py:762: UserWarning:\n",
      "\n",
      "categorical_feature in param dict is overridden.\n",
      "\n"
     ]
    }
   ],
   "source": [
    "w = np.random.rand(len(np.array(Y_train)), )\n",
    "train_data = lgb.Dataset(X_train, label=np.array(Y_train), weight=w)\n",
    "#validation_data = lgb.Dataset('validation.svm', reference=train_data)\n",
    "validation_data = lgb.Dataset(X_test, label=np.array(Y_test))\n",
    "\n",
    "num_round = 10\n",
    "bst = lgb.train(param, train_data, num_round, valid_sets=[validation_data])"
   ]
  },
  {
   "cell_type": "code",
   "execution_count": 7,
   "metadata": {},
   "outputs": [],
   "source": [
    "model = lgb.LGBMClassifier"
   ]
  },
  {
   "cell_type": "code",
   "execution_count": 11,
   "metadata": {},
   "outputs": [
    {
     "data": {
      "text/plain": [
       "({'auc': 0.7790250966955975,\n",
       "  'rmse': 0.3754970543527726,\n",
       "  'binary_error': 0.18155555555555555},\n",
       " 'accuracy: 0.8184444444444444')"
      ]
     },
     "execution_count": 11,
     "metadata": {},
     "output_type": "execute_result"
    }
   ],
   "source": [
    "list(bst.best_score.values())[0], 'accuracy: ' + str(1- list(bst.best_score.values())[0]['binary_error'])"
   ]
  },
  {
   "cell_type": "code",
   "execution_count": 9,
   "metadata": {},
   "outputs": [
    {
     "data": {
      "text/plain": [
       "<lightgbm.basic.Booster at 0x12555d080>"
      ]
     },
     "execution_count": 9,
     "metadata": {},
     "output_type": "execute_result"
    }
   ],
   "source": [
    "bst.save_model('lgb_model.txt')"
   ]
  }
 ],
 "metadata": {
  "kernelspec": {
   "display_name": "Python 3",
   "language": "python",
   "name": "python3"
  },
  "language_info": {
   "codemirror_mode": {
    "name": "ipython",
    "version": 3
   },
   "file_extension": ".py",
   "mimetype": "text/x-python",
   "name": "python",
   "nbconvert_exporter": "python",
   "pygments_lexer": "ipython3",
   "version": "3.6.5"
  },
  "toc": {
   "base_numbering": 1,
   "nav_menu": {},
   "number_sections": true,
   "sideBar": true,
   "skip_h1_title": false,
   "title_cell": "Table of Contents",
   "title_sidebar": "Contents",
   "toc_cell": false,
   "toc_position": {},
   "toc_section_display": true,
   "toc_window_display": false
  }
 },
 "nbformat": 4,
 "nbformat_minor": 2
}
